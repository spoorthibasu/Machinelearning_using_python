{
  "nbformat": 4,
  "nbformat_minor": 0,
  "metadata": {
    "kernelspec": {
      "name": "python3",
      "display_name": "Python 3"
    },
    "language_info": {
      "codemirror_mode": {
        "name": "ipython",
        "version": 3
      },
      "file_extension": ".py",
      "mimetype": "text/x-python",
      "name": "python",
      "nbconvert_exporter": "python",
      "pygments_lexer": "ipython3",
      "version": "3.5.3"
    },
    "colab": {
      "name": "Spoorthi_Basu_Assignment_1.ipynb",
      "provenance": [],
      "collapsed_sections": []
    },
    "accelerator": "GPU"
  },
  "cells": [
    {
      "cell_type": "code",
      "metadata": {
        "id": "eP878d8BZGW4",
        "colab_type": "code",
        "colab": {}
      },
      "source": [
        ""
      ],
      "execution_count": 0,
      "outputs": []
    },
    {
      "cell_type": "code",
      "metadata": {
        "deletable": true,
        "editable": true,
        "id": "WJ3cJxt3bSjp",
        "colab_type": "code",
        "colab": {}
      },
      "source": [
        "# The modules we're going to use\n",
        "from __future__ import print_function\n",
        "from sklearn import preprocessing\n",
        "from sklearn.model_selection import train_test_split\n",
        "from sklearn import datasets, linear_model\n",
        "from scipy import linalg\n",
        "from numpy.linalg import inv\n",
        "import numpy as np\n",
        "import matplotlib.pyplot as plt\n",
        "from __future__ import division\n",
        "\n",
        "# When you execute a code to plot with a simple SHIFT-ENTER, the plot will be shown directly under the code cell\n",
        "%matplotlib inline"
      ],
      "execution_count": 0,
      "outputs": []
    },
    {
      "cell_type": "code",
      "metadata": {
        "deletable": true,
        "editable": true,
        "id": "VXXIgKFJbSjr",
        "colab_type": "code",
        "colab": {}
      },
      "source": [
        "# Load data from scikit-learn, which returns (data, target)\n",
        "# note: if you call \"boston = load_boston()\", it returns a dictionary-like object\n",
        "data, target = datasets.load_boston(True)\n",
        "\n",
        "# Split the data into two parts: training data and testing data\n",
        "train_data,test_data,train_target,test_target = train_test_split(data,(target[:, np.newaxis]), test_size=0.2, random_state=42)"
      ],
      "execution_count": 0,
      "outputs": []
    },
    {
      "cell_type": "markdown",
      "metadata": {
        "deletable": true,
        "editable": true,
        "id": "NA3ezrA-bSjt",
        "colab_type": "text"
      },
      "source": [
        "<h4>Use scikit-learn library in the following cell</h4>"
      ]
    },
    {
      "cell_type": "code",
      "metadata": {
        "deletable": true,
        "editable": true,
        "id": "hlqomvfpbSjt",
        "colab_type": "code",
        "outputId": "51221ae9-90d7-4dc3-d143-4bd000792e79",
        "colab": {
          "base_uri": "https://localhost:8080/",
          "height": 134
        }
      },
      "source": [
        "# Task 1-1: use linear regression in sklearn\n",
        "\n",
        "#for creating the linear regression object\n",
        "regressor = linear_model.LinearRegression()\n",
        "\n",
        "#for training the model using the traing data\n",
        "regressor.fit(train_data, train_target)\n",
        "\n",
        "# Task 1-2: show intercept and coefficents\n",
        "\n",
        "#for printing the intercept\n",
        "print('Intercept is =',regressor.intercept_)\n",
        "\n",
        "#for printing the coefficients\n",
        "print('Coefficients is =',regressor.coef_)\n",
        "\n",
        "# Task 1-3: show errors on training dataset and testing dataset\n",
        "\n",
        "#for printing the error, Mean Squared Error(MSE) = 1/2(mean((target-prediction)^2))\n",
        "\n",
        "#Prediction using testing data\n",
        "test_pred=regressor.predict(test_data)\n",
        "\n",
        "#Prediction using training data\n",
        "train_pred=regressor.predict(train_data)\n",
        "\n",
        "#Mean Squared Error for testing data\n",
        "print('The MSE for testing data: %.4f'  %((np.square(np.subtract(test_target,test_pred)).mean())/2))\n",
        "      \n",
        "#Mean Squared Error for training data\n",
        "print('The MSE for training data: %.4f' %((np.square(np.subtract(train_target,train_pred)).mean())/2))"
      ],
      "execution_count": 110,
      "outputs": [
        {
          "output_type": "stream",
          "text": [
            "Intercept is = [30.24675099]\n",
            "Coefficients is = [[-1.13055924e-01  3.01104641e-02  4.03807204e-02  2.78443820e+00\n",
            "  -1.72026334e+01  4.43883520e+00 -6.29636221e-03 -1.44786537e+00\n",
            "   2.62429736e-01 -1.06467863e-02 -9.15456240e-01  1.23513347e-02\n",
            "  -5.08571424e-01]]\n",
            "The MSE for testing data: 12.1456\n",
            "The MSE for training data: 10.8207\n"
          ],
          "name": "stdout"
        }
      ]
    },
    {
      "cell_type": "markdown",
      "metadata": {
        "deletable": true,
        "editable": true,
        "id": "RpX2tOa5bSjv",
        "colab_type": "text"
      },
      "source": [
        "<h4>Use analytical solution (normal equation) to perform linear regression in the following cell</h4>"
      ]
    },
    {
      "cell_type": "code",
      "metadata": {
        "deletable": true,
        "editable": true,
        "id": "YZJJ0sUGbSjv",
        "colab_type": "code",
        "outputId": "46c1c261-fcdd-41a2-96e0-d02a1a68ec6d",
        "colab": {
          "base_uri": "https://localhost:8080/",
          "height": 286
        }
      },
      "source": [
        "# Task 2-1: Implement a function solving normal equation \n",
        "# Inputs: Training data and  training label\n",
        "# Output: Weights\n",
        "\n",
        "#Weights=(X.T * X)^(-1) * X.T * y\n",
        "def myNormalEqualFun(X,y):\n",
        "  XTranspose=X.T\n",
        "  Weights=inv(XTranspose.dot(X)).dot(XTranspose).dot(y)\n",
        "  return Weights\n",
        "    \n",
        "# Task 2-2: Implement a function performing prediction\n",
        "# Inputs: Testing data and weights\n",
        "# Output: Predictions\n",
        "\n",
        "#Predictions=X.w\n",
        "def myPredictFun(X,w):\n",
        "  Predictions=X.dot(w)\n",
        "  return Predictions\n",
        "\n",
        "# Here we insert a column of 1s into training_data and test_data (to be consistent with our lecture slides)\n",
        "train_data_intercept = np.insert(train_data, 0, 1, axis=1)\n",
        "test_data_intercept = np.insert(test_data, 0, 1, axis=1)\n",
        "\n",
        "# Here we call myNormalEqual to train the model and get weights\n",
        "w = myNormalEqualFun(train_data_intercept,train_target)\n",
        "\n",
        "\n",
        "# Task 2-3: show intercept and coefficents\n",
        "\n",
        "#for printing the intercept\n",
        "print('Intercept is =',w[0])\n",
        "\n",
        "#for printing the coefficients\n",
        "print('Coefficients is =',w[1:14])\n",
        "\n",
        "# Task 2-4: show errors on training dataset and testing dataset\n",
        "#for printing the error, Mean Squared Error(MSE) = 1/2(mean((target-prediction)^2))\n",
        "\n",
        "#Prediction using testing data\n",
        "test_pred=myPredictFun(test_data_intercept,w)\n",
        "\n",
        "#Prediction using training data\n",
        "train_pred=myPredictFun(train_data_intercept,w)\n",
        "\n",
        "#Mean Squared Error for testing data\n",
        "print('The MSE for testing data: %.4f'  %((np.square(np.subtract(test_target,test_pred)).mean())/2))\n",
        "      \n",
        "#Mean Squared Error for training data\n",
        "print('The MSE for training data: %.4f' %((np.square(np.subtract(train_target,train_pred)).mean())/2))"
      ],
      "execution_count": 111,
      "outputs": [
        {
          "output_type": "stream",
          "text": [
            "Intercept is = [30.24675099]\n",
            "Coefficients is = [[-1.13055924e-01]\n",
            " [ 3.01104641e-02]\n",
            " [ 4.03807204e-02]\n",
            " [ 2.78443820e+00]\n",
            " [-1.72026334e+01]\n",
            " [ 4.43883520e+00]\n",
            " [-6.29636221e-03]\n",
            " [-1.44786537e+00]\n",
            " [ 2.62429736e-01]\n",
            " [-1.06467863e-02]\n",
            " [-9.15456240e-01]\n",
            " [ 1.23513347e-02]\n",
            " [-5.08571424e-01]]\n",
            "The MSE for testing data: 12.1456\n",
            "The MSE for training data: 10.8207\n"
          ],
          "name": "stdout"
        }
      ]
    },
    {
      "cell_type": "markdown",
      "metadata": {
        "deletable": true,
        "editable": true,
        "id": "1hhVEfixbSjx",
        "colab_type": "text"
      },
      "source": [
        "<h4>Use numerical solution (baisc gradient descent) to perform linear regression in the following cell</h4>"
      ]
    },
    {
      "cell_type": "code",
      "metadata": {
        "deletable": true,
        "editable": true,
        "id": "3H1IxOBubSjy",
        "colab_type": "code",
        "outputId": "db6eaecf-dd03-4bb2-b026-486e3542b374",
        "colab": {
          "base_uri": "https://localhost:8080/",
          "height": 799
        }
      },
      "source": [
        "# Feature scaling\n",
        "scaler = preprocessing.StandardScaler().fit(train_data)\n",
        "train_data = scaler.transform(train_data)\n",
        "test_data = scaler.transform(test_data)\n",
        "\n",
        "\n",
        "# Task 3-1: Implement a function performing gradient descent\n",
        "# Inputs: Training data, training label, leaerning rate, number of iterations\n",
        "# Output: the final Weights\n",
        "#         the loss history along iterations\n",
        "\n",
        "def  cal_cost(weight,X,y):                                                       #Function of calculating loss=1/2m(((X.w)−y)^2)\n",
        "  m = len(y)\n",
        "  predictions = X.dot(weight)\n",
        "  cost = (1/2*m) * np.sum(np.square(predictions-y))\n",
        "  return cost\n",
        "\n",
        "def myGradientDescentFun(X,y,learning_rate,numItrs):\n",
        "  weight = np.random.rand(X[0].size,1)                                           #randomly generated weights\n",
        "  m = len(y)                                                                     #m=length of training labels\n",
        "  loss_history = np.zeros(numItrs)                                               #Initializing loss history with 0\n",
        "  for it in range(numItrs):                                                      \n",
        "    prediction = np.dot(X,weight)                                                #Prediction=X.w\n",
        "    weight = weight -(1/m)*learning_rate*( X.T.dot((prediction - y)))            #weight=weight-learning_rate*gradient descent\n",
        "    loss_history[it]  = cal_cost(weight,X,y)                                     #Loss History=Array of the loss values over numItrs\n",
        "  return weight,loss_history\n",
        "\n",
        "# Task 3-2: Implement a function performing prediction\n",
        "# Inputs: Testing data and weights\n",
        "# Output: Predictions\n",
        "\n",
        "#Predictions=X.w\n",
        "def myPredictFun(X,w):\n",
        "    Predictions=X.dot(w)\n",
        "    return Predictions\n",
        "\n",
        "# Here we insert a column of 1s into training_data and test_data (to be consistent with our lecture slides)\n",
        "train_data_intercept = np.insert(train_data, 0, 1, axis=1)\n",
        "test_data_intercept = np.insert(test_data, 0, 1, axis=1)\n",
        "\n",
        "# Here we call myGradientDescentFun to train the model and get weights\n",
        "# Note: you need to figure out good learning rate value and the number of iterations\n",
        "w, loss = myGradientDescentFun(train_data_intercept,train_target,0.09,1600)\n",
        "print(\"Final weights:\",w)\n",
        "\n",
        "# Task 3-3: show intercept and coefficents\n",
        "\n",
        "#for printing the intercept\n",
        "print('Intercept is =',w[0])\n",
        "\n",
        "#for printing the coefficients\n",
        "print('Coefficients is =',w[1:14])\n",
        "\n",
        "# Task 3-4: show errors on training dataset and testing dataset\n",
        "\n",
        "#for printing the error, Mean Squared Error(MSE) = 1/2(mean((target-prediction)^2))\n",
        "\n",
        "#Prediction using testing data\n",
        "test_pred=myPredictFun(test_data_intercept,w)\n",
        "\n",
        "#Prediction using training data\n",
        "train_pred=myPredictFun(train_data_intercept,w)\n",
        "\n",
        "#Mean Squared Error for testing data\n",
        "testing_error=(np.square(np.subtract(test_target,test_pred)).mean())/2\n",
        "print('The MSE for testing data: %.4f' %testing_error)\n",
        "\n",
        "#Mean Squared Error for training data\n",
        "training_error=(np.square(np.subtract(train_target,train_pred)).mean())/2\n",
        "print('The MSE for training data: %.4f' %training_error)\n",
        "  \n",
        "# # Task 3-5: plot learning curves showing training errors and testing errors along iterations\n",
        "iterations=1600\n",
        "testing_error=np.zeros(iterations)\n",
        "training_error=np.zeros(iterations)\n",
        "\n",
        "for i in range (iterations):\n",
        "  w, loss = myGradientDescentFun(train_data_intercept,train_target,0.09,i)\n",
        "  test_pred=myPredictFun(test_data_intercept,w)\n",
        "  testing_error[i]=(np.square(np.subtract(test_target,test_pred)).mean())/2\n",
        "  train_pred=myPredictFun(train_data_intercept,w)\n",
        "  training_error[i]=(np.square(np.subtract(train_target,train_pred)).mean())/2\n",
        "# print('Testing Error',testing_error[1200:1599])\n",
        "# print('Training Error',training_error[1200:1599])\n",
        "  \n",
        "\n",
        "plt.title(\"learning curves showing how training error and validation errors along iterations\")\n",
        "plt.xlabel('Iterations')\n",
        "plt.ylabel('Training & Testing Error Error') \n",
        "#plt.plot(loss)\n",
        "plt.plot(testing_error,linewidth=5,label=\"Validation Error\")\n",
        "plt.plot(training_error,linewidth=3,label=\"Testing Error\")           \n",
        "plt.show()"
      ],
      "execution_count": 112,
      "outputs": [
        {
          "output_type": "stream",
          "text": [
            "Final weights: [[22.79653465]\n",
            " [-1.00212151]\n",
            " [ 0.69623602]\n",
            " [ 0.27800247]\n",
            " [ 0.71874814]\n",
            " [-2.02231257]\n",
            " [ 3.14525466]\n",
            " [-0.1760535 ]\n",
            " [-3.08189965]\n",
            " [ 2.2512189 ]\n",
            " [-1.7668042 ]\n",
            " [-2.03774592]\n",
            " [ 1.12956718]\n",
            " [-3.61164924]]\n",
            "Intercept is = [22.79653465]\n",
            "Coefficients is = [[-1.00212151]\n",
            " [ 0.69623602]\n",
            " [ 0.27800247]\n",
            " [ 0.71874814]\n",
            " [-2.02231257]\n",
            " [ 3.14525466]\n",
            " [-0.1760535 ]\n",
            " [-3.08189965]\n",
            " [ 2.2512189 ]\n",
            " [-1.7668042 ]\n",
            " [-2.03774592]\n",
            " [ 1.12956718]\n",
            " [-3.61164924]]\n",
            "The MSE for testing data: 12.1456\n",
            "The MSE for training data: 10.8207\n"
          ],
          "name": "stdout"
        },
        {
          "output_type": "display_data",
          "data": {
            "image/png": "[encoded data removed]",
            "text/plain": [
              "<Figure size 432x288 with 1 Axes>"
            ]
          },
          "metadata": {
            "tags": []
          }
        }
      ]
    },
    {
      "cell_type": "markdown",
      "metadata": {
        "id": "Rx1UOqmfcNe0",
        "colab_type": "text"
      },
      "source": [
        "<h4>Use numerical solution (stochastic gradient descent) to perform linear regression in the following cell</h4>"
      ]
    },
    {
      "cell_type": "code",
      "metadata": {
        "colab_type": "code",
        "outputId": "42fe6bd9-5bf0-4ae7-8752-fba10d2b896b",
        "id": "CVUMGWS18GgF",
        "colab": {
          "base_uri": "https://localhost:8080/",
          "height": 564
        }
      },
      "source": [
        "# Feature scaling\n",
        "scaler = preprocessing.StandardScaler().fit(train_data)\n",
        "train_data = scaler.transform(train_data)\n",
        "test_data = scaler.transform(test_data)\n",
        "\n",
        "\n",
        "# Task 4-1: Implement a function performing gradient descent\n",
        "# Inputs: Training data, training label, leaerning rate, number of epoches, batch size\n",
        "# Output: the final Weights\n",
        "#         the loss history along batches\n",
        "\n",
        "def  cal_cost(weight,X,y):                                                       ##Function of calculating loss=1/2m(((X.w)−y)^2)\n",
        "  m = len(y)\n",
        "  predictions = X.dot(weight)\n",
        "  cost = (1/2*m) * np.sum(np.square(predictions-y))\n",
        "  return cost\n",
        "           \n",
        "def create_mini_batch(X,y,batchsize):                                            #Function for creating mini-batches for the calculating the gradient descent\n",
        "  mini_batches=[]\n",
        "  data=np.hstack((X,y))\n",
        "  np.random.shuffle(data)\n",
        "  n_minibatches=data.shape[0]\n",
        "  i=0\n",
        "  \n",
        "  for i in range(n_minibatches + 1):\n",
        "    mini_batch=data[i*batchsize:(i+1)*batchsize,:]\n",
        "    X_mini=mini_batch[:,:-1]\n",
        "    Y_mini=mini_batch[:,-1].reshape((-1,1))\n",
        "    mini_batches.append((X_mini,Y_mini))\n",
        "  if data.shape[0] % batchsize!=0:\n",
        "    mini_batch=data[i*batchsize:data.shape[0]]\n",
        "    X_mini=mini_batch[:,:-1]\n",
        "    Y_mini=mini_batch[:,-1].reshape((-1,1))\n",
        "    mini_batches.append((X_mini,Y_mini))\n",
        "  return mini_batches\n",
        "  \n",
        "def myGradientDescentFun(X,y,learning_rate,epoches, batchsize):\n",
        "  \n",
        "    weight= np.zeros((X.shape[1], 1))                                            #randomly generated weights  \n",
        "    losshist=[]                                       \n",
        "    loss_history=np.zeros(epoches)                                               #Initializing loss history with 0                                 \n",
        "    m = len(y)                                                                   #m=length of training labels                 \n",
        "    \n",
        "    for itr in range(epoches):                                                   #Looping over the epochs\n",
        "      loss=0.0\n",
        "      mini_batches=create_mini_batch(X,y,batchsize)                              #Storing the minibatch values\n",
        "      for mini_batch in mini_batches:                                            #Looping over each batch\n",
        "        X_i,y_i = mini_batch\n",
        "        prediction = np.dot(X_i,weight)                                          #Prediction=X.w\n",
        "        weight = weight -(1/m)*learning_rate*( X_i.T.dot((prediction - y_i)))    #weight=weight-learning_rate*gradient descent\n",
        "        loss+=(cal_cost(weight,X_i,y_i))                                         #Storing the loss values  \n",
        "        losshist.append(loss)                                                     #Loss History=Array of the loss values over each batch\n",
        "      loss_history[itr]=loss                                                     #Loss History=Array of the loss values over numItrs\n",
        "    return weight,loss_history\n",
        "  \n",
        "# Task 4-2: Implement a function performing prediction\n",
        "# Inputs: Testing data and weights\n",
        "# Output: Predictions\n",
        "\n",
        "#Predictions=X.w\n",
        "def myPredictFun(X,w):\n",
        "    Predictions=X.dot(w)\n",
        "    return Predictions\n",
        "  \n",
        "# Here we insert a column of 1s into training_data and test_data (to be consistent with our lecture slides)\n",
        "train_data_intercept = np.insert(train_data, 0, 1, axis=1)\n",
        "test_data_intercept = np.insert(test_data, 0, 1, axis=1)\n",
        "\n",
        "# Here we call myGradientDescentFun to train the model and get weights\n",
        "# Note: you need to figure out good learning rate value and the number of iterations\n",
        "w, loss = myGradientDescentFun(train_data_intercept,train_target,0.09,910,32)\n",
        "\n",
        "# Task 4-3: show intercept and coefficents\n",
        "\n",
        "#for printing the intercept\n",
        "print('Intercept is =',w[0])\n",
        "\n",
        "#for printing the coefficients\n",
        "print('Coefficients is =',w[1:14])\n",
        "\n",
        "# Task 4-4: show errors on training dataset and testing dataset\n",
        "\n",
        "#for printing the error, Mean Squared Error(MSE) = 1/2(mean((target-prediction)^2))\n",
        "\n",
        "#Prediction using testing data\n",
        "test_pred=myPredictFun(test_data_intercept,w)\n",
        "\n",
        "#Prediction using training data\n",
        "train_pred=myPredictFun(train_data_intercept,w)\n",
        "\n",
        "#Mean Squared Error for testing data\n",
        "testing_error=(np.square(np.subtract(test_target,test_pred)).mean())/2\n",
        "print('The MSE for testing data: %.4f' %testing_error)\n",
        "      \n",
        "#Mean Squared Error for training data\n",
        "training_error=(np.square(np.subtract(train_target,train_pred)).mean())/2\n",
        "print('The MSE for training data: %.4f' %training_error)\n",
        "\n",
        "# Task 4-5: plot learning curves showing training errors and testing errors along batch\n",
        "batch=32\n",
        "testing_error=np.zeros(batch)\n",
        "training_error=np.zeros(batch)\n",
        " \n",
        "for i in range (1,batch):\n",
        "  w, loss = myGradientDescentFun(train_data_intercept,train_target,0.09,910,i)\n",
        "  test_pred=myPredictFun(test_data_intercept,w)\n",
        "  testing_error[i]=(np.square(np.subtract(test_target,test_pred)).mean())/2\n",
        "  train_pred=myPredictFun(train_data_intercept,w)\n",
        "  training_error[i]=(np.square(np.subtract(train_target,train_pred)).mean())/2\n",
        "\n",
        "plt.title(\"learning curves showing how training error and validation errors along batches\")\n",
        "plt.xlabel('Batches')\n",
        "plt.ylabel('Training & Testing Error Error') \n",
        "#plt.plot(loss)\n",
        "plt.plot(testing_error,linewidth=2,label='Validation Error')\n",
        "plt.plot(training_error,linewidth=3,label='Training Error')           \n",
        "plt.show()\n",
        "\n",
        "\n",
        "  "
      ],
      "execution_count": 115,
      "outputs": [
        {
          "output_type": "stream",
          "text": [
            "Intercept is = [22.79557205]\n",
            "Coefficients is = [[-1.00344298]\n",
            " [ 0.69444711]\n",
            " [ 0.27659624]\n",
            " [ 0.72088767]\n",
            " [-2.02120334]\n",
            " [ 3.14069439]\n",
            " [-0.17374041]\n",
            " [-3.08349365]\n",
            " [ 2.24308854]\n",
            " [-1.75379073]\n",
            " [-2.03560411]\n",
            " [ 1.12895392]\n",
            " [-3.60989724]]\n",
            "The MSE for testing data: 12.1405\n",
            "The MSE for training data: 10.8208\n"
          ],
          "name": "stdout"
        },
        {
          "output_type": "display_data",
          "data": {
            "image/png": "[encoded data removed]",
            "text/plain": [
              "<Figure size 432x288 with 1 Axes>"
            ]
          },
          "metadata": {
            "tags": []
          }
        }
      ]
    }
  ]
}